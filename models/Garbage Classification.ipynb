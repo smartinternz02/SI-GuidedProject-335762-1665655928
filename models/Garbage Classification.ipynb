{
 "cells": [
  {
   "cell_type": "code",
   "execution_count": 1,
   "metadata": {},
   "outputs": [],
   "source": [
    "#import image datagenerator library\n",
    "from tensorflow.keras.preprocessing.image import ImageDataGenerator"
   ]
  },
  {
   "cell_type": "code",
   "execution_count": 2,
   "metadata": {},
   "outputs": [],
   "source": [
    "train_datagen = ImageDataGenerator(rescale=1./255,\n",
    "                                   shear_range=0.1,\n",
    "                                   zoom_range=0.1,\n",
    "                                   horizontal_flip=True)"
   ]
  },
  {
   "cell_type": "code",
   "execution_count": 3,
   "metadata": {},
   "outputs": [],
   "source": [
    "val_datagen = ImageDataGenerator(rescale = 1./255)"
   ]
  },
  {
   "cell_type": "code",
   "execution_count": 4,
   "metadata": {},
   "outputs": [
    {
     "name": "stdout",
     "output_type": "stream",
     "text": [
      "Found 2664 images belonging to 6 classes.\n"
     ]
    }
   ],
   "source": [
    "train_transform = train_datagen.flow_from_directory(r'./dataset/train',\n",
    "                                            target_size=(128,128),\n",
    "                                            batch_size=64,\n",
    "                                            class_mode='categorical')"
   ]
  },
  {
   "cell_type": "code",
   "execution_count": 5,
   "metadata": {},
   "outputs": [
    {
     "name": "stdout",
     "output_type": "stream",
     "text": [
      "Found 606 images belonging to 6 classes.\n"
     ]
    }
   ],
   "source": [
    "test_transform = val_datagen.flow_from_directory(r'./dataset/val',\n",
    "                                            target_size=(128,128),\n",
    "                                            batch_size=64,\n",
    "                                            class_mode='categorical')"
   ]
  },
  {
   "cell_type": "code",
   "execution_count": 6,
   "metadata": {},
   "outputs": [],
   "source": [
    "#to define linear initializations import Sequential\n",
    "from tensorflow.keras.models import Sequential\n",
    "#To add layers import Dense\n",
    "from tensorflow.keras.layers import Dense\n",
    "# to create a convolution kernel import Convolution2D\n",
    "from tensorflow.keras.layers import Convolution2D\n",
    "# Adding Max pooling Layer\n",
    "from tensorflow.keras.layers import MaxPooling2D\n",
    "# Adding Flatten Layer\n",
    "from tensorflow.keras.layers import Flatten\n",
    "from tensorflow.keras.optimizers import Adam"
   ]
  },
  {
   "cell_type": "code",
   "execution_count": 7,
   "metadata": {},
   "outputs": [],
   "source": [
    "# Initializing the model\n",
    "model=Sequential()"
   ]
  },
  {
   "cell_type": "code",
   "execution_count": 8,
   "metadata": {},
   "outputs": [],
   "source": [
    "model.add(Convolution2D(32,(3,3),input_shape=(128,128,3),activation='relu'))\n",
    "model.add(MaxPooling2D(2,2))"
   ]
  },
  {
   "cell_type": "raw",
   "metadata": {},
   "source": [
    "model.add(Convolution2D(64,(3,3),padding='same',activation='relu'))\n",
    "model.add(MaxPooling2D(pool_size=2))"
   ]
  },
  {
   "cell_type": "raw",
   "metadata": {},
   "source": [
    "model.add(Convolution2D(32,(3,3),activation='relu'))\n",
    "model.add(MaxPooling2D(2,2))"
   ]
  },
  {
   "cell_type": "raw",
   "metadata": {},
   "source": [
    "model.add(Convolution2D(32,(3,3), padding='same',activation='relu'))\n",
    "model.add(MaxPooling2D(pool_size=2)) "
   ]
  },
  {
   "cell_type": "code",
   "execution_count": 9,
   "metadata": {},
   "outputs": [],
   "source": [
    "model.add(Flatten()) "
   ]
  },
  {
   "cell_type": "code",
   "execution_count": 10,
   "metadata": {},
   "outputs": [
    {
     "data": {
      "text/plain": [
       "(None, 127008)"
      ]
     },
     "execution_count": 10,
     "metadata": {},
     "output_type": "execute_result"
    }
   ],
   "source": [
    "model.output_shape"
   ]
  },
  {
   "cell_type": "code",
   "execution_count": 11,
   "metadata": {},
   "outputs": [
    {
     "name": "stdout",
     "output_type": "stream",
     "text": [
      "Model: \"sequential\"\n",
      "_________________________________________________________________\n",
      "Layer (type)                 Output Shape              Param #   \n",
      "=================================================================\n",
      "conv2d (Conv2D)              (None, 126, 126, 32)      896       \n",
      "_________________________________________________________________\n",
      "max_pooling2d (MaxPooling2D) (None, 63, 63, 32)        0         \n",
      "_________________________________________________________________\n",
      "flatten (Flatten)            (None, 127008)            0         \n",
      "=================================================================\n",
      "Total params: 896\n",
      "Trainable params: 896\n",
      "Non-trainable params: 0\n",
      "_________________________________________________________________\n"
     ]
    }
   ],
   "source": [
    "model.summary()"
   ]
  },
  {
   "cell_type": "code",
   "execution_count": 12,
   "metadata": {},
   "outputs": [],
   "source": [
    "# Adding 1st hidden layer\n",
    "model.add(Dense(kernel_initializer='uniform',activation='relu',units=150))"
   ]
  },
  {
   "cell_type": "code",
   "execution_count": 13,
   "metadata": {},
   "outputs": [],
   "source": [
    "model.add(Dense(kernel_initializer='uniform',activation='relu',units=68))"
   ]
  },
  {
   "cell_type": "code",
   "execution_count": 14,
   "metadata": {},
   "outputs": [],
   "source": [
    "model.add(Dense(kernel_initializer='uniform',activation='softmax',units=6))"
   ]
  },
  {
   "cell_type": "raw",
   "metadata": {},
   "source": [
    "model.compile(loss='categorical_crossentropy', optimizer=Adam(lr=0.001), metrics=['acc'])"
   ]
  },
  {
   "cell_type": "raw",
   "metadata": {},
   "source": [
    "model.add(Dropout(0.5))"
   ]
  },
  {
   "cell_type": "code",
   "execution_count": 15,
   "metadata": {},
   "outputs": [],
   "source": [
    "model.compile(loss='categorical_crossentropy', optimizer='adam', metrics=['acc'])"
   ]
  },
  {
   "cell_type": "code",
   "execution_count": 16,
   "metadata": {},
   "outputs": [
    {
     "name": "stdout",
     "output_type": "stream",
     "text": [
      "Model: \"sequential\"\n",
      "_________________________________________________________________\n",
      "Layer (type)                 Output Shape              Param #   \n",
      "=================================================================\n",
      "conv2d (Conv2D)              (None, 126, 126, 32)      896       \n",
      "_________________________________________________________________\n",
      "max_pooling2d (MaxPooling2D) (None, 63, 63, 32)        0         \n",
      "_________________________________________________________________\n",
      "flatten (Flatten)            (None, 127008)            0         \n",
      "_________________________________________________________________\n",
      "dense (Dense)                (None, 150)               19051350  \n",
      "_________________________________________________________________\n",
      "dense_1 (Dense)              (None, 68)                10268     \n",
      "_________________________________________________________________\n",
      "dense_2 (Dense)              (None, 6)                 414       \n",
      "=================================================================\n",
      "Total params: 19,062,928\n",
      "Trainable params: 19,062,928\n",
      "Non-trainable params: 0\n",
      "_________________________________________________________________\n"
     ]
    }
   ],
   "source": [
    "model.summary()"
   ]
  },
  {
   "cell_type": "code",
   "execution_count": 17,
   "metadata": {},
   "outputs": [
    {
     "name": "stderr",
     "output_type": "stream",
     "text": [
      "C:\\Users\\smartbridge\\anaconda3\\lib\\site-packages\\tensorflow\\python\\keras\\engine\\training.py:1844: UserWarning: `Model.fit_generator` is deprecated and will be removed in a future version. Please use `Model.fit`, which supports generators.\n",
      "  warnings.warn('`Model.fit_generator` is deprecated and '\n"
     ]
    },
    {
     "name": "stdout",
     "output_type": "stream",
     "text": [
      "Epoch 1/30\n",
      "41/41 [==============================] - 45s 1s/step - loss: 1.7747 - acc: 0.2061 - val_loss: 1.4693 - val_acc: 0.4132\n",
      "Epoch 2/30\n",
      "41/41 [==============================] - 53s 1s/step - loss: 1.5144 - acc: 0.3893 - val_loss: 1.3684 - val_acc: 0.4410\n",
      "Epoch 3/30\n",
      "41/41 [==============================] - 43s 1s/step - loss: 1.3444 - acc: 0.4624 - val_loss: 1.2694 - val_acc: 0.5122\n",
      "Epoch 4/30\n",
      "41/41 [==============================] - 49s 1s/step - loss: 1.2176 - acc: 0.5210 - val_loss: 1.1758 - val_acc: 0.5469\n",
      "Epoch 5/30\n",
      "41/41 [==============================] - 47s 1s/step - loss: 1.2179 - acc: 0.4982 - val_loss: 1.0858 - val_acc: 0.5694\n",
      "Epoch 6/30\n",
      "41/41 [==============================] - 48s 1s/step - loss: 1.1780 - acc: 0.5352 - val_loss: 1.0922 - val_acc: 0.5868\n",
      "Epoch 7/30\n",
      "41/41 [==============================] - 50s 1s/step - loss: 1.0955 - acc: 0.5836 - val_loss: 1.0062 - val_acc: 0.6111\n",
      "Epoch 8/30\n",
      "41/41 [==============================] - 53s 1s/step - loss: 1.0096 - acc: 0.6127 - val_loss: 1.0593 - val_acc: 0.5885\n",
      "Epoch 9/30\n",
      "41/41 [==============================] - 52s 1s/step - loss: 1.0005 - acc: 0.6200 - val_loss: 0.8735 - val_acc: 0.6701\n",
      "Epoch 10/30\n",
      "41/41 [==============================] - 50s 1s/step - loss: 0.9507 - acc: 0.6571 - val_loss: 0.8716 - val_acc: 0.6806\n",
      "Epoch 11/30\n",
      "41/41 [==============================] - 47s 1s/step - loss: 0.8568 - acc: 0.6822 - val_loss: 0.8149 - val_acc: 0.7083\n",
      "Epoch 12/30\n",
      "41/41 [==============================] - 47s 1s/step - loss: 0.8062 - acc: 0.7054 - val_loss: 0.7221 - val_acc: 0.7500\n",
      "Epoch 13/30\n",
      "41/41 [==============================] - 51s 1s/step - loss: 0.7450 - acc: 0.7262 - val_loss: 0.6855 - val_acc: 0.7465\n",
      "Epoch 14/30\n",
      "41/41 [==============================] - 54s 1s/step - loss: 0.7229 - acc: 0.7402 - val_loss: 0.6877 - val_acc: 0.7465\n",
      "Epoch 15/30\n",
      "41/41 [==============================] - 49s 1s/step - loss: 0.6481 - acc: 0.7739 - val_loss: 0.5801 - val_acc: 0.8038\n",
      "Epoch 16/30\n",
      "41/41 [==============================] - 48s 1s/step - loss: 0.6567 - acc: 0.7606 - val_loss: 0.7099 - val_acc: 0.7378\n",
      "Epoch 17/30\n",
      "41/41 [==============================] - 52s 1s/step - loss: 0.6477 - acc: 0.7559 - val_loss: 0.5898 - val_acc: 0.7743\n",
      "Epoch 18/30\n",
      "41/41 [==============================] - 52s 1s/step - loss: 0.6438 - acc: 0.7567 - val_loss: 0.5998 - val_acc: 0.7587\n",
      "Epoch 19/30\n",
      "41/41 [==============================] - 51s 1s/step - loss: 0.6158 - acc: 0.7782 - val_loss: 0.4134 - val_acc: 0.8594\n",
      "Epoch 20/30\n",
      "41/41 [==============================] - 52s 1s/step - loss: 0.4948 - acc: 0.8250 - val_loss: 0.4548 - val_acc: 0.8455\n",
      "Epoch 21/30\n",
      "41/41 [==============================] - 50s 1s/step - loss: 0.4633 - acc: 0.8358 - val_loss: 0.3721 - val_acc: 0.8472\n",
      "Epoch 22/30\n",
      "41/41 [==============================] - 50s 1s/step - loss: 0.4586 - acc: 0.8412 - val_loss: 0.3870 - val_acc: 0.8594\n",
      "Epoch 23/30\n",
      "41/41 [==============================] - 49s 1s/step - loss: 0.4216 - acc: 0.8470 - val_loss: 0.3280 - val_acc: 0.8819\n",
      "Epoch 24/30\n",
      "41/41 [==============================] - 45s 1s/step - loss: 0.3834 - acc: 0.8611 - val_loss: 0.3725 - val_acc: 0.8819\n",
      "Epoch 25/30\n",
      "41/41 [==============================] - 44s 1s/step - loss: 0.3818 - acc: 0.8644 - val_loss: 0.2590 - val_acc: 0.9062\n",
      "Epoch 26/30\n",
      "41/41 [==============================] - 42s 1s/step - loss: 0.3715 - acc: 0.8593 - val_loss: 0.2497 - val_acc: 0.9271\n",
      "Epoch 27/30\n",
      "41/41 [==============================] - 45s 1s/step - loss: 0.3030 - acc: 0.8954 - val_loss: 0.2159 - val_acc: 0.9323\n",
      "Epoch 28/30\n",
      "41/41 [==============================] - 43s 1s/step - loss: 0.2889 - acc: 0.9078 - val_loss: 0.1847 - val_acc: 0.9479\n",
      "Epoch 29/30\n",
      "41/41 [==============================] - 48s 1s/step - loss: 0.2697 - acc: 0.9050 - val_loss: 0.1973 - val_acc: 0.9410\n",
      "Epoch 30/30\n",
      "41/41 [==============================] - 43s 1s/step - loss: 0.2579 - acc: 0.9134 - val_loss: 0.1926 - val_acc: 0.9306\n"
     ]
    }
   ],
   "source": [
    "res = model.fit_generator(train_transform,steps_per_epoch=2664//64,validation_steps=606//64,epochs=30,\n",
    "                          validation_data=test_transform)"
   ]
  },
  {
   "cell_type": "code",
   "execution_count": 19,
   "metadata": {},
   "outputs": [],
   "source": [
    "model.save('Garbage1.h5')"
   ]
  },
  {
   "cell_type": "code",
   "execution_count": 70,
   "metadata": {},
   "outputs": [],
   "source": [
    "#import numpy library\n",
    "import numpy as np\n",
    "#import load_model method to load our saved model\n",
    "from tensorflow.keras.models import load_model\n",
    "#import image from keras.preprocessing\n",
    "from tensorflow.keras.preprocessing import image\n",
    "#loading our saved model file\n",
    "model = load_model(\"Garbage1.h5\")\n",
    "img = image.load_img(r\"C:\\Users\\smartbridge\\Desktop\\metal.jpg\",\n",
    "                     target_size=(128,128))\n",
    "\n",
    "x=image.img_to_array(img) #converting in to array format\n",
    "\n",
    "x=np.expand_dims(x,axis=0) #changing its dimensions as per our requirement \n",
    "#img_data=preprocess_input(x)\n",
    "#img_data.shape"
   ]
  },
  {
   "cell_type": "code",
   "execution_count": 71,
   "metadata": {},
   "outputs": [
    {
     "name": "stdout",
     "output_type": "stream",
     "text": [
      "WARNING:tensorflow:11 out of the last 11 calls to <function Model.make_predict_function.<locals>.predict_function at 0x000002CF98917040> triggered tf.function retracing. Tracing is expensive and the excessive number of tracings could be due to (1) creating @tf.function repeatedly in a loop, (2) passing tensors with different shapes, (3) passing Python objects instead of tensors. For (1), please define your @tf.function outside of the loop. For (2), @tf.function has experimental_relax_shapes=True option that relaxes argument shapes that can avoid unnecessary retracing. For (3), please refer to https://www.tensorflow.org/guide/function#controlling_retracing and https://www.tensorflow.org/api_docs/python/tf/function for  more details.\n"
     ]
    }
   ],
   "source": [
    "a=np.argmax(model.predict(x), axis=1)"
   ]
  },
  {
   "cell_type": "code",
   "execution_count": 72,
   "metadata": {},
   "outputs": [
    {
     "data": {
      "text/plain": [
       "'2'"
      ]
     },
     "execution_count": 72,
     "metadata": {},
     "output_type": "execute_result"
    }
   ],
   "source": [
    "index=['0', '1', '2', '3', '4','5']\n",
    "result = str(index[a[0]])\n",
    "result"
   ]
  },
  {
   "cell_type": "code",
   "execution_count": 41,
   "metadata": {},
   "outputs": [],
   "source": [
    "import matplotlib.pyplot as plt"
   ]
  },
  {
   "cell_type": "code",
   "execution_count": 42,
   "metadata": {},
   "outputs": [
    {
     "data": {
      "image/png": "[encoded data removed]",
      "text/plain": [
       "<Figure size 432x288 with 1 Axes>"
      ]
     },
     "metadata": {
      "needs_background": "light"
     },
     "output_type": "display_data"
    },
    {
     "data": {
      "text/plain": [
       "<Figure size 432x288 with 0 Axes>"
      ]
     },
     "metadata": {},
     "output_type": "display_data"
    }
   ],
   "source": [
    "# plot the loss\n",
    "plt.plot(res.history['loss'], label='train loss')\n",
    "plt.plot(res.history['val_loss'], label='val loss')\n",
    "plt.legend()\n",
    "plt.show()\n",
    "plt.savefig('LossVal_loss')"
   ]
  },
  {
   "cell_type": "code",
   "execution_count": 43,
   "metadata": {},
   "outputs": [
    {
     "data": {
      "image/png": "[encoded data removed]",
      "text/plain": [
       "<Figure size 432x288 with 1 Axes>"
      ]
     },
     "metadata": {
      "needs_background": "light"
     },
     "output_type": "display_data"
    },
    {
     "data": {
      "text/plain": [
       "<Figure size 432x288 with 0 Axes>"
      ]
     },
     "metadata": {},
     "output_type": "display_data"
    }
   ],
   "source": [
    "# plot the accuracy\n",
    "plt.plot(res.history['acc'], label='train acc')\n",
    "plt.plot(res.history['val_acc'], label='val acc')\n",
    "plt.legend()\n",
    "plt.show()\n",
    "plt.savefig('AccVal_acc')"
   ]
  },
  {
   "cell_type": "code",
   "execution_count": null,
   "metadata": {},
   "outputs": [],
   "source": []
  }
 ],
 "metadata": {
  "kernelspec": {
   "display_name": "Python 3",
   "language": "python",
   "name": "python3"
  },
  "language_info": {
   "codemirror_mode": {
    "name": "ipython",
    "version": 3
   },
   "file_extension": ".py",
   "mimetype": "text/x-python",
   "name": "python",
   "nbconvert_exporter": "python",
   "pygments_lexer": "ipython3",
   "version": "3.8.5"
  }
 },
 "nbformat": 4,
 "nbformat_minor": 4
}
